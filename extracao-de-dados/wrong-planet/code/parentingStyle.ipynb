{
 "cells": [
  {
   "cell_type": "code",
   "execution_count": 10,
   "metadata": {},
   "outputs": [],
   "source": [
    "# Bibliotecas\n",
    "import requests\n",
    "from bs4 import BeautifulSoup\n",
    "import pandas as pd\n",
    "import os"
   ]
  },
  {
   "cell_type": "code",
   "execution_count": 11,
   "metadata": {},
   "outputs": [],
   "source": [
    "request = requests.get('https://wrongplanet.net/forums/viewtopic.php?t=419468')\n",
    "content = request.content"
   ]
  },
  {
   "cell_type": "code",
   "execution_count": 12,
   "metadata": {},
   "outputs": [],
   "source": [
    "site = BeautifulSoup(content, 'html.parser')"
   ]
  },
  {
   "cell_type": "code",
   "execution_count": 13,
   "metadata": {},
   "outputs": [],
   "source": [
    "posts = site.findAll('div', attrs={'class': 'message-col'})"
   ]
  },
  {
   "cell_type": "code",
   "execution_count": 14,
   "metadata": {},
   "outputs": [],
   "source": [
    "user_names = []\n",
    "genders = []\n",
    "messages = []"
   ]
  },
  {
   "cell_type": "code",
   "execution_count": 15,
   "metadata": {},
   "outputs": [],
   "source": [
    "for post in posts:\n",
    "    user = post.find_previous_sibling('div', attrs={'class': 'user-col'})\n",
    "    if user:\n",
    "        user_name = user.find('a', href=True)\n",
    "        if user_name:\n",
    "            user_name = user_name.text.strip()\n",
    "            user_names.append(user_name)\n",
    "        \n",
    "        gender = user.find(string=lambda string: string and 'Gender:' in string)\n",
    "        if gender:\n",
    "            gender = gender.split('Gender:')[1].strip()\n",
    "            genders.append(gender)\n",
    "        else:\n",
    "            genders.append(None)\n",
    "    \n",
    "    message_content = post.find('div', attrs={'class': 'message-content'})\n",
    "    if message_content:\n",
    "        messages.append(message_content.text.strip())\n",
    "    else:\n",
    "        messages.append(None)\n"
   ]
  },
  {
   "cell_type": "code",
   "execution_count": 16,
   "metadata": {},
   "outputs": [],
   "source": [
    "df = pd.DataFrame({\n",
    "    'Nome do Usuário': user_names,\n",
    "    'Gênero': genders,\n",
    "    'Conteúdo da Mensagem': messages\n",
    "})"
   ]
  },
  {
   "cell_type": "code",
   "execution_count": 17,
   "metadata": {},
   "outputs": [
    {
     "name": "stderr",
     "output_type": "stream",
     "text": [
      "<>:1: SyntaxWarning: invalid escape sequence '\\w'\n",
      "<>:1: SyntaxWarning: invalid escape sequence '\\w'\n",
      "C:\\Users\\Adaias\\AppData\\Local\\Temp\\ipykernel_8968\\1479215253.py:1: SyntaxWarning: invalid escape sequence '\\w'\n",
      "  path = \"extracao-de-dados\\wrong-planet\\csv\"\n"
     ]
    }
   ],
   "source": [
    "path = \"extracao-de-dados\\wrong-planet\\csv\"\n",
    "fileName = \"resultParentStyle.csv\"\n",
    "fullNamePath = os.path.join(path, fileName)"
   ]
  },
  {
   "cell_type": "code",
   "execution_count": 18,
   "metadata": {},
   "outputs": [],
   "source": [
    "df.to_csv(fullNamePath, index=False)"
   ]
  },
  {
   "cell_type": "code",
   "execution_count": null,
   "metadata": {},
   "outputs": [],
   "source": []
  }
 ],
 "metadata": {
  "kernelspec": {
   "display_name": "Python 3",
   "language": "python",
   "name": "python3"
  },
  "language_info": {
   "codemirror_mode": {
    "name": "ipython",
    "version": 3
   },
   "file_extension": ".py",
   "mimetype": "text/x-python",
   "name": "python",
   "nbconvert_exporter": "python",
   "pygments_lexer": "ipython3",
   "version": "3.12.5"
  }
 },
 "nbformat": 4,
 "nbformat_minor": 2
}
