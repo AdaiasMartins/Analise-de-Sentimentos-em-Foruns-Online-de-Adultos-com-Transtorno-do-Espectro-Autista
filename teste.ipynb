{
 "cells": [
  {
   "cell_type": "code",
   "execution_count": 1,
   "metadata": {},
   "outputs": [],
   "source": [
    "import pandas as pd"
   ]
  },
  {
   "cell_type": "code",
   "execution_count": 2,
   "metadata": {},
   "outputs": [
    {
     "name": "stderr",
     "output_type": "stream",
     "text": [
      "<>:1: SyntaxWarning: invalid escape sequence '\\w'\n",
      "<>:1: SyntaxWarning: invalid escape sequence '\\w'\n",
      "C:\\Users\\Adaias\\AppData\\Local\\Temp\\ipykernel_19528\\3471775099.py:1: SyntaxWarning: invalid escape sequence '\\w'\n",
      "  data_frame = pd.read_csv(\"extracao-de-dados\\wrong-planet\\code\\csv\\parents discussion\\struggleToToiletTrainMy5YoDaughterWithSevereAutism.csv\")\n"
     ]
    }
   ],
   "source": [
    "data_frame = pd.read_csv(\"extracao-de-dados\\wrong-planet\\code\\csv\\parents discussion\\struggleToToiletTrainMy5YoDaughterWithSevereAutism.csv\")"
   ]
  },
  {
   "cell_type": "code",
   "execution_count": 6,
   "metadata": {},
   "outputs": [
    {
     "ename": "NameError",
     "evalue": "name 'printf' is not defined",
     "output_type": "error",
     "traceback": [
      "\u001b[1;31m---------------------------------------------------------------------------\u001b[0m",
      "\u001b[1;31mNameError\u001b[0m                                 Traceback (most recent call last)",
      "Cell \u001b[1;32mIn[6], line 1\u001b[0m\n\u001b[1;32m----> 1\u001b[0m \u001b[43mprintf\u001b[49m(data_frame\u001b[38;5;241m.\u001b[39mhead)\n",
      "\u001b[1;31mNameError\u001b[0m: name 'printf' is not defined"
     ]
    }
   ],
   "source": [
    "print(data_frame.he)"
   ]
  }
 ],
 "metadata": {
  "kernelspec": {
   "display_name": "Python 3",
   "language": "python",
   "name": "python3"
  },
  "language_info": {
   "codemirror_mode": {
    "name": "ipython",
    "version": 3
   },
   "file_extension": ".py",
   "mimetype": "text/x-python",
   "name": "python",
   "nbconvert_exporter": "python",
   "pygments_lexer": "ipython3",
   "version": "3.12.5"
  }
 },
 "nbformat": 4,
 "nbformat_minor": 2
}
