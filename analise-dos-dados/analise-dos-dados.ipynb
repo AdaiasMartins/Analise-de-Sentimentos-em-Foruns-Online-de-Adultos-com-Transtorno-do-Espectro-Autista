{
 "cells": [
  {
   "cell_type": "markdown",
   "metadata": {},
   "source": [
    "# Análise de Sentimentos"
   ]
  },
  {
   "cell_type": "code",
   "execution_count": 29,
   "metadata": {},
   "outputs": [],
   "source": [
    "import os\n",
    "import pandas as pd\n",
    "from vaderSentiment.vaderSentiment import SentimentIntensityAnalyzer\n"
   ]
  },
  {
   "cell_type": "code",
   "execution_count": 30,
   "metadata": {},
   "outputs": [],
   "source": [
    "analyzer = SentimentIntensityAnalyzer()"
   ]
  },
  {
   "cell_type": "code",
   "execution_count": 31,
   "metadata": {},
   "outputs": [
    {
     "name": "stdout",
     "output_type": "stream",
     "text": [
      "Análise de sentimentos concluída e salva para 67andneverhadagfAsperger's&AutismCommunity-WrongPlanet.csv\n",
      "Análise de sentimentos concluída e salva para AgeatdiagnosisAsperger's&AutismCommunity-WrongPlanet.csv\n",
      "Análise de sentimentos concluída e salva para AnyOfYouNotAbleToFriends.csv\n",
      "Análise de sentimentos concluída e salva para DoIhavetobeallmusculartobeattractiveAsperger's&AutismCommunity-WrongPlanet.csv\n",
      "Análise de sentimentos concluída e salva para DoWeHaveToDrinkTravelAndPartyToLiveLife.csv\n",
      "Análise de sentimentos concluída e salva para feelingDiscouraged.csv\n",
      "Análise de sentimentos concluída e salva para FriendshipBoardAge19Onwards.csv\n",
      "Análise de sentimentos concluída e salva para GhostingisharshAsperger's&AutismCommunity-WrongPlanet.csv\n",
      "Análise de sentimentos concluída e salva para HowdoyouthinkAsperger's&AutismCommunity-WrongPlanet.csv\n",
      "Análise de sentimentos concluída e salva para HowtoavoidDatingaNarcissistAsperger's&AutismCommunity-WrongPlanet.csv\n",
      "Análise de sentimentos concluída e salva para MaskingvsLearningAsperger's&AutismCommunity-WrongPlanet.csv\n",
      "Análise de sentimentos concluída e salva para refusingToWearColouredClothing.csv\n",
      "Análise de sentimentos concluída e salva para resultParentStyle.csv\n",
      "Análise de sentimentos concluída e salva para resultSingleParent.csv\n",
      "Análise de sentimentos concluída e salva para struggleToToiletTrainMy5YoDaughterWithSevereAutism.csv\n",
      "Análise de sentimentos concluída e salva para WhatwasyourfirstSpecialinterestAsperger's&AutismCommunity-WrongPlanet.csv\n",
      "Análise de sentimentos concluída e salva para WhyDoITryTooHardToFitInWithEveryoneElse.csv\n"
     ]
    }
   ],
   "source": [
    "output_folder_path = r'csv\\resultados'\n",
    "\n",
    "if not os.path.exists(output_folder_path):\n",
    "    os.makedirs(output_folder_path)\n",
    "\n",
    "csv_folder_path = r'csv\\extraidos\\wrong-planet'\n",
    "results_folder_path = r'csv\\resultados'\n",
    "\n",
    "csv_files = [f for f in os.listdir(csv_folder_path) if f.endswith('.csv')]\n",
    "\n",
    "for file in csv_files:\n",
    "    file_path = os.path.join(csv_folder_path, file)\n",
    "    \n",
    "    df = pd.read_csv(file_path)\n",
    "    \n",
    "    if 'Conteúdo da Mensagem' in df.columns:\n",
    "        df['sentiment_score'] = df['Conteúdo da Mensagem'].apply(lambda x: analyzer.polarity_scores(x)['compound'])\n",
    "        \n",
    "        output_file_path = os.path.join(results_folder_path, f'analise_sentimentos_{file}')\n",
    "        df.to_csv(output_file_path, index=False)\n",
    "        \n",
    "        print(f\"Análise de sentimentos concluída e salva para {file}\")\n",
    "    else:\n",
    "        print(f\"A coluna 'post_content' não foi encontrada no arquivo {file}. Verifique o nome correto da coluna.\")\n"
   ]
  },
  {
   "cell_type": "markdown",
   "metadata": {},
   "source": []
  }
 ],
 "metadata": {
  "kernelspec": {
   "display_name": "Python 3",
   "language": "python",
   "name": "python3"
  },
  "language_info": {
   "codemirror_mode": {
    "name": "ipython",
    "version": 3
   },
   "file_extension": ".py",
   "mimetype": "text/x-python",
   "name": "python",
   "nbconvert_exporter": "python",
   "pygments_lexer": "ipython3",
   "version": "3.12.5"
  }
 },
 "nbformat": 4,
 "nbformat_minor": 2
}
